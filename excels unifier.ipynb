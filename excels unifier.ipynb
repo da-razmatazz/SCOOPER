{
 "cells": [
  {
   "cell_type": "code",
   "execution_count": 4,
   "id": "086f817c-75c2-4e60-be1f-0aac3ce93f2d",
   "metadata": {},
   "outputs": [
    {
     "name": "stdout",
     "output_type": "stream",
     "text": [
      "Processing C:\\Users\\razhd\\OneDrive\\Desktop\\Scripts for SCOOPER\\אקסלים לאיחוד וסכימת ריטוויט ואימפרשנס\\ייצוא 5 מטוויטר - בעיה בייצוא - נפתלי בנט - מלוכלך.xls...\n",
      "Processing C:\\Users\\razhd\\OneDrive\\Desktop\\Scripts for SCOOPER\\אקסלים לאיחוד וסכימת ריטוויט ואימפרשנס\\ייצוא 25 מטוויטר - אופיר אקוניס.xls...\n",
      "Processing C:\\Users\\razhd\\OneDrive\\Desktop\\Scripts for SCOOPER\\אקסלים לאיחוד וסכימת ריטוויט ואימפרשנס\\ייצוא 25 מטוויטר - להשלים דאטה - אמילי שריידר - מלוכלך.xls...\n",
      "Processing C:\\Users\\razhd\\OneDrive\\Desktop\\Scripts for SCOOPER\\אקסלים לאיחוד וסכימת ריטוויט ואימפרשנס\\ייצוא 50 מטוויטר - מייקל אורן - מלכולך.xls...\n",
      "Processing C:\\Users\\razhd\\OneDrive\\Desktop\\Scripts for SCOOPER\\אקסלים לאיחוד וסכימת ריטוויט ואימפרשנס\\ייצוא 50 מטוויטר - נועה תשבי.xls...\n",
      "Processing C:\\Users\\razhd\\OneDrive\\Desktop\\Scripts for SCOOPER\\אקסלים לאיחוד וסכימת ריטוויט ואימפרשנס\\ייצוא 50 מטוויטר - ריצ'רד הכט.xls...\n",
      "Processing C:\\Users\\razhd\\OneDrive\\Desktop\\Scripts for SCOOPER\\אקסלים לאיחוד וסכימת ריטוויט ואימפרשנס\\ייצוא 100 לטוויטר - חנניה נפתלי - מלוכלך.xls...\n",
      "Processing C:\\Users\\razhd\\OneDrive\\Desktop\\Scripts for SCOOPER\\אקסלים לאיחוד וסכימת ריטוויט ואימפרשנס\\ייצוא 100 מטוויטר - טל היינריך.xlsx...\n",
      "Processing C:\\Users\\razhd\\OneDrive\\Desktop\\Scripts for SCOOPER\\אקסלים לאיחוד וסכימת ריטוויט ואימפרשנס\\ייצוא 250 טוויטר- איילון לוי.xlsx...\n",
      "Processing C:\\Users\\razhd\\OneDrive\\Desktop\\Scripts for SCOOPER\\אקסלים לאיחוד וסכימת ריטוויט ואימפרשנס\\ייצוא 250 טוויטר -דיוויד מנסר.xlsx...\n",
      "Processing C:\\Users\\razhd\\OneDrive\\Desktop\\Scripts for SCOOPER\\אקסלים לאיחוד וסכימת ריטוויט ואימפרשנס\\ייצוא 250 טוויטר- יהונתן קונריקוס.xlsx...\n",
      "Processing C:\\Users\\razhd\\OneDrive\\Desktop\\Scripts for SCOOPER\\אקסלים לאיחוד וסכימת ריטוויט ואימפרשנס\\ייצוא 250 טוויטר- מיכאל הרצוג.xlsx...\n",
      "Processing C:\\Users\\razhd\\OneDrive\\Desktop\\Scripts for SCOOPER\\אקסלים לאיחוד וסכימת ריטוויט ואימפרשנס\\ייצוא 250 טוויטר- רון דרמר.xlsx...\n",
      "Processing C:\\Users\\razhd\\OneDrive\\Desktop\\Scripts for SCOOPER\\אקסלים לאיחוד וסכימת ריטוויט ואימפרשנס\\ייצוא 250 מטוויטר - בריג'יט גבריאל.xls...\n",
      "Processing C:\\Users\\razhd\\OneDrive\\Desktop\\Scripts for SCOOPER\\אקסלים לאיחוד וסכימת ריטוויט ואימפרשנס\\ייצוא 250 מטוויטר - גלעד ארדן.xls...\n",
      "Processing C:\\Users\\razhd\\OneDrive\\Desktop\\Scripts for SCOOPER\\אקסלים לאיחוד וסכימת ריטוויט ואימפרשנס\\ייצוא 250 מטוויטר - דניאל הגרי - מלוכלך.xls...\n",
      "Processing C:\\Users\\razhd\\OneDrive\\Desktop\\Scripts for SCOOPER\\אקסלים לאיחוד וסכימת ריטוויט ואימפרשנס\\ייצוא 250 מטוויטר - מארק רגב.xls...\n",
      "Processing C:\\Users\\razhd\\OneDrive\\Desktop\\Scripts for SCOOPER\\אקסלים לאיחוד וסכימת ריטוויט ואימפרשנס\\ייצוא 250 מטוויטר - מסעב חסן יוסף - מלוכלך.xlsx...\n",
      "Processing C:\\Users\\razhd\\OneDrive\\Desktop\\Scripts for SCOOPER\\אקסלים לאיחוד וסכימת ריטוויט ואימפרשנס\\ייצוא משחזור פורמליים ובלתי פורמליים.xlsx...\n",
      "Combined Excel saved successfully to C:\\Users\\razhd\\OneDrive\\Desktop\\Scripts for SCOOPER\\אקסלים לאיחוד וסכימת ריטוויט ואימפרשנס\\combined_output.xlsx\n"
     ]
    }
   ],
   "source": [
    "import pandas as pd\n",
    "\n",
    "# List of file paths for your Excel files\n",
    "file_paths = [\n",
    "    r\"C:\\Users\\razhd\\OneDrive\\Desktop\\Scripts for SCOOPER\\אקסלים לאיחוד וסכימת ריטוויט ואימפרשנס\\ייצוא 5 מטוויטר - בעיה בייצוא - נפתלי בנט - מלוכלך.xls\",\n",
    "    r\"C:\\Users\\razhd\\OneDrive\\Desktop\\Scripts for SCOOPER\\אקסלים לאיחוד וסכימת ריטוויט ואימפרשנס\\ייצוא 25 מטוויטר - אופיר אקוניס.xls\",\n",
    "    r\"C:\\Users\\razhd\\OneDrive\\Desktop\\Scripts for SCOOPER\\אקסלים לאיחוד וסכימת ריטוויט ואימפרשנס\\ייצוא 25 מטוויטר - להשלים דאטה - אמילי שריידר - מלוכלך.xls\",\n",
    "    r\"C:\\Users\\razhd\\OneDrive\\Desktop\\Scripts for SCOOPER\\אקסלים לאיחוד וסכימת ריטוויט ואימפרשנס\\ייצוא 50 מטוויטר - מייקל אורן - מלכולך.xls\",\n",
    "    r\"C:\\Users\\razhd\\OneDrive\\Desktop\\Scripts for SCOOPER\\אקסלים לאיחוד וסכימת ריטוויט ואימפרשנס\\ייצוא 50 מטוויטר - נועה תשבי.xls\",\n",
    "    r\"C:\\Users\\razhd\\OneDrive\\Desktop\\Scripts for SCOOPER\\אקסלים לאיחוד וסכימת ריטוויט ואימפרשנס\\ייצוא 50 מטוויטר - ריצ'רד הכט.xls\",\n",
    "    r\"C:\\Users\\razhd\\OneDrive\\Desktop\\Scripts for SCOOPER\\אקסלים לאיחוד וסכימת ריטוויט ואימפרשנס\\ייצוא 100 לטוויטר - חנניה נפתלי - מלוכלך.xls\",\n",
    "    r\"C:\\Users\\razhd\\OneDrive\\Desktop\\Scripts for SCOOPER\\אקסלים לאיחוד וסכימת ריטוויט ואימפרשנס\\ייצוא 100 מטוויטר - טל היינריך.xlsx\",\n",
    "    r\"C:\\Users\\razhd\\OneDrive\\Desktop\\Scripts for SCOOPER\\אקסלים לאיחוד וסכימת ריטוויט ואימפרשנס\\ייצוא 250 טוויטר- איילון לוי.xlsx\",\n",
    "    r\"C:\\Users\\razhd\\OneDrive\\Desktop\\Scripts for SCOOPER\\אקסלים לאיחוד וסכימת ריטוויט ואימפרשנס\\ייצוא 250 טוויטר -דיוויד מנסר.xlsx\",\n",
    "    r\"C:\\Users\\razhd\\OneDrive\\Desktop\\Scripts for SCOOPER\\אקסלים לאיחוד וסכימת ריטוויט ואימפרשנס\\ייצוא 250 טוויטר- יהונתן קונריקוס.xlsx\",\n",
    "    r\"C:\\Users\\razhd\\OneDrive\\Desktop\\Scripts for SCOOPER\\אקסלים לאיחוד וסכימת ריטוויט ואימפרשנס\\ייצוא 250 טוויטר- מיכאל הרצוג.xlsx\",\n",
    "    r\"C:\\Users\\razhd\\OneDrive\\Desktop\\Scripts for SCOOPER\\אקסלים לאיחוד וסכימת ריטוויט ואימפרשנס\\ייצוא 250 טוויטר- רון דרמר.xlsx\",\n",
    "    r\"C:\\Users\\razhd\\OneDrive\\Desktop\\Scripts for SCOOPER\\אקסלים לאיחוד וסכימת ריטוויט ואימפרשנס\\ייצוא 250 מטוויטר - בריג'יט גבריאל.xls\",\n",
    "    r\"C:\\Users\\razhd\\OneDrive\\Desktop\\Scripts for SCOOPER\\אקסלים לאיחוד וסכימת ריטוויט ואימפרשנס\\ייצוא 250 מטוויטר - גלעד ארדן.xls\",\n",
    "    r\"C:\\Users\\razhd\\OneDrive\\Desktop\\Scripts for SCOOPER\\אקסלים לאיחוד וסכימת ריטוויט ואימפרשנס\\ייצוא 250 מטוויטר - דניאל הגרי - מלוכלך.xls\",\n",
    "    r\"C:\\Users\\razhd\\OneDrive\\Desktop\\Scripts for SCOOPER\\אקסלים לאיחוד וסכימת ריטוויט ואימפרשנס\\ייצוא 250 מטוויטר - מארק רגב.xls\",\n",
    "    r\"C:\\Users\\razhd\\OneDrive\\Desktop\\Scripts for SCOOPER\\אקסלים לאיחוד וסכימת ריטוויט ואימפרשנס\\ייצוא 250 מטוויטר - מסעב חסן יוסף - מלוכלך.xlsx\",\n",
    "    r\"C:\\Users\\razhd\\OneDrive\\Desktop\\Scripts for SCOOPER\\אקסלים לאיחוד וסכימת ריטוויט ואימפרשנס\\ייצוא משחזור פורמליים ובלתי פורמליים.xlsx\"\n",
    "]\n",
    "\n",
    "# Create an empty list to store dataframes\n",
    "dataframes = []\n",
    "\n",
    "# Loop through each file and read it into a DataFrame\n",
    "for file in file_paths:\n",
    "    print(f\"Processing {file}...\")\n",
    "    try:\n",
    "        if file.endswith(\".xls\"):\n",
    "            df = pd.read_excel(file, engine=\"xlrd\")  # Use xlrd for .xls files\n",
    "        elif file.endswith(\".xlsx\"):\n",
    "            df = pd.read_excel(file, engine=\"openpyxl\")  # Use openpyxl for .xlsx files\n",
    "        else:\n",
    "            print(f\"Unsupported file format: {file}\")\n",
    "            continue\n",
    "        dataframes.append(df)  # Append the DataFrame to the list\n",
    "    except Exception as e:\n",
    "        print(f\"Error processing {file}: {e}\")\n",
    "        continue\n",
    "\n",
    "# Combine all DataFrames into one\n",
    "if dataframes:\n",
    "    combined_df = pd.concat(dataframes, ignore_index=True)\n",
    "    output_file = r\"C:\\Users\\razhd\\OneDrive\\Desktop\\Scripts for SCOOPER\\אקסלים לאיחוד וסכימת ריטוויט ואימפרשנס\\combined_output.xlsx\"\n",
    "    combined_df.to_excel(output_file, index=False)\n",
    "    print(f\"Combined Excel saved successfully to {output_file}\")\n",
    "else:\n",
    "    print(\"No valid files were processed.\")\n"
   ]
  },
  {
   "cell_type": "code",
   "execution_count": null,
   "id": "8c4c677a-337f-49f3-ac48-fcf1f0830d8e",
   "metadata": {},
   "outputs": [],
   "source": []
  },
  {
   "cell_type": "code",
   "execution_count": null,
   "id": "f81ab818-8b2e-4fa1-94ff-feff483b964d",
   "metadata": {},
   "outputs": [],
   "source": []
  }
 ],
 "metadata": {
  "kernelspec": {
   "display_name": "Python 3 (ipykernel)",
   "language": "python",
   "name": "python3"
  },
  "language_info": {
   "codemirror_mode": {
    "name": "ipython",
    "version": 3
   },
   "file_extension": ".py",
   "mimetype": "text/x-python",
   "name": "python",
   "nbconvert_exporter": "python",
   "pygments_lexer": "ipython3",
   "version": "3.12.4"
  }
 },
 "nbformat": 4,
 "nbformat_minor": 5
}
