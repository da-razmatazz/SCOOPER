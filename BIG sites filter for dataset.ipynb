{
 "cells": [
  {
   "cell_type": "code",
   "execution_count": 5,
   "id": "b0c1909e-ca17-47d3-865c-34fe7b667a70",
   "metadata": {},
   "outputs": [
    {
     "name": "stdout",
     "output_type": "stream",
     "text": [
      "Filtered data saved to ייצוא תוצאות דוברים בלתי פורמליים - אתרים גדולים.xlsx\n"
     ]
    }
   ],
   "source": [
    "import pandas as pd\n",
    "\n",
    "# File paths\n",
    "input_file = r\"C:\\Users\\razhd\\Downloads\\ייצוא תוצאות כולל - דוברים בלתי פורמליים.xlsx\"\n",
    "output_file = \"ייצוא תוצאות דוברים בלתי פורמליים - אתרים גדולים.xlsx\"\n",
    "\n",
    "# List of desired site URLs to filter\n",
    "desired_sites = [\n",
    "    \"www.huffpost.com\",\n",
    "    \"www.news.sky.com\",\n",
    "    \"www.nytimes.com\",\n",
    "    \"www.politico.com\",\n",
    "    \"www.abcnews.go.com\",\n",
    "    \"www.cbsnews.com\",\n",
    "    \"www.thehill.com\",\n",
    "    \"www.wsj.com\",\n",
    "    \"www.vox.com\",\n",
    "    \"www.vice.com\",\n",
    "    \"www.washingtonpost.com\",\n",
    "    \"www.reuters.com\",\n",
    "    \"www.nbcnews.com\",\n",
    "    \"www.npr.org\",\n",
    "    \"www.telegraph.co.uk\",\n",
    "    \"www.businessinsider.com\",\n",
    "    \"www.cnbc.com\",\n",
    "    \"www.time.com\",\n",
    "    \"www.bbc.com\",\n",
    "    \"www.bbc.co.uk\"\n",
    "]\n",
    "\n",
    "# Read the dataset\n",
    "df = pd.read_excel(input_file)\n",
    "\n",
    "# Filter rows where `extra_source_attributes.name` matches any of the desired site URLs\n",
    "filtered_df = df[df['extra_source_attributes.name'].isin(desired_sites)]\n",
    "\n",
    "# Save the filtered data to a new Excel file\n",
    "filtered_df.to_excel(output_file, index=False)\n",
    "\n",
    "print(f\"Filtered data saved to {output_file}\")\n"
   ]
  },
  {
   "cell_type": "code",
   "execution_count": null,
   "id": "83320e30-fd95-46f2-8809-53d9f7ab7b11",
   "metadata": {},
   "outputs": [],
   "source": []
  }
 ],
 "metadata": {
  "kernelspec": {
   "display_name": "Python 3 (ipykernel)",
   "language": "python",
   "name": "python3"
  },
  "language_info": {
   "codemirror_mode": {
    "name": "ipython",
    "version": 3
   },
   "file_extension": ".py",
   "mimetype": "text/x-python",
   "name": "python",
   "nbconvert_exporter": "python",
   "pygments_lexer": "ipython3",
   "version": "3.12.4"
  }
 },
 "nbformat": 4,
 "nbformat_minor": 5
}
