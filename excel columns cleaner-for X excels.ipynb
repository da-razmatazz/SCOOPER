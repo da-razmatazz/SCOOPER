{
 "cells": [
  {
   "cell_type": "code",
   "execution_count": 5,
   "id": "c400f4f6",
   "metadata": {},
   "outputs": [
    {
     "name": "stdout",
     "output_type": "stream",
     "text": [
      "File saved successfully to C:\\Users\\razhd\\Downloads\\ייצוא 250 טוויטר - בן שפירו - נקי.xlsx\n"
     ]
    }
   ],
   "source": [
    "import pandas as pd\n",
    "\n",
    "# File paths\n",
    "input_file = r\"G:\\Shared drives\\scooper\\SCOOPER!\\לקוחות\\לקוחות פעילים\\משרד התפוצות\\מסמכי עבודה\\פרקים\\פרק דוברים\\בן שפירו\\ייצוא 250 טוויטר - בן שפירו.xlsx\"\n",
    "output_file = r\"C:\\Users\\razhd\\Downloads\\ייצוא 250 טוויטר - בן שפירו - נקי.xlsx\"\n",
    "\n",
    "# Desired columns and their new names\n",
    "desired_columns = [\n",
    "    \"url\",\n",
    "    \"published\",\n",
    "    \"title_snippet\",\n",
    "    \"content_snippet\",\n",
    "    \"title\",\n",
    "    \"content\",\n",
    "    \"lang\",\n",
    "    \"sentiment\",\n",
    "    \"source_type\",\n",
    "    \"extra_author_attributes.name\",\n",
    "    \"extra_author_attributes.gender\",\n",
    "    \"extra_source_attributes.world_data.country\",\n",
    "    \"engagement\",\n",
    "    \"reach\",\n",
    "    \"extra_source_attributes.name\",\n",
    "    \"article_extended_attributes.twitter_retweets\",\n",
    "    \"article_extended_attributes.twitter_impressions\",\n",
    "    \"article_extended_attributes.twitter_video_views\"\n",
    "]\n",
    "\n",
    "new_column_names = {\n",
    "    \"url\": \"URL\",\n",
    "    \"published\": \"Date Published\",\n",
    "    \"title_snippet\": \"Title Preview\",\n",
    "    \"content_snippet\": \"Content Preview\",\n",
    "    \"title\": \"Full Title\",\n",
    "    \"content\": \"Full Content\",\n",
    "    \"lang\": \"Language\",\n",
    "    \"sentiment\": \"Sentiment Score\",\n",
    "    \"source_type\": \"Source Type\",\n",
    "    \"extra_author_attributes.name\": \"Author Name\",\n",
    "    \"extra_author_attributes.gender\": \"Author Gender\",\n",
    "    \"extra_source_attributes.world_data.country\": \"Country\",\n",
    "    \"engagement\": \"Engagement\",\n",
    "    \"reach\": \"Potential Reach\",\n",
    "    \"extra_source_attributes.name\": \"Source Name\",\n",
    "    \"article_extended_attributes.twitter_retweets\": \"Twitter retweets\",\n",
    "    \"article_extended_attributes.twitter_impressions\": \"Twitter Impressions\",\n",
    "    \"article_extended_attributes.twitter_video_views\": \"Twitter Video Views\"\n",
    "}\n",
    "\n",
    "# Load the Excel file\n",
    "df = pd.read_excel(input_file)\n",
    "\n",
    "# Reorder and filter columns\n",
    "df_reordered = df[desired_columns]\n",
    "\n",
    "# Rename columns\n",
    "df_renamed = df_reordered.rename(columns=new_column_names)\n",
    "\n",
    "# Save the result to a new Excel file\n",
    "df_renamed.to_excel(output_file, index=False)\n",
    "\n",
    "print(f\"File saved successfully to {output_file}\")\n"
   ]
  },
  {
   "cell_type": "code",
   "execution_count": 3,
   "id": "0c4af6c8-e870-4176-b37b-845ad0dd70c3",
   "metadata": {},
   "outputs": [
    {
     "name": "stdout",
     "output_type": "stream",
     "text": [
      "C:\\Users\\razhd\\anaconda3\\python.exe\n",
      "C:\\Users\\razhd\\AppData\\Local\\Microsoft\\WindowsApps\\python.exe\n"
     ]
    }
   ],
   "source": [
    "!where python"
   ]
  },
  {
   "cell_type": "code",
   "execution_count": null,
   "id": "1eedc94c-5ba1-4238-b3f4-66b39a1dcc67",
   "metadata": {},
   "outputs": [],
   "source": []
  }
 ],
 "metadata": {
  "kernelspec": {
   "display_name": "Python 3 (ipykernel)",
   "language": "python",
   "name": "python3"
  },
  "language_info": {
   "codemirror_mode": {
    "name": "ipython",
    "version": 3
   },
   "file_extension": ".py",
   "mimetype": "text/x-python",
   "name": "python",
   "nbconvert_exporter": "python",
   "pygments_lexer": "ipython3",
   "version": "3.12.4"
  }
 },
 "nbformat": 4,
 "nbformat_minor": 5
}
